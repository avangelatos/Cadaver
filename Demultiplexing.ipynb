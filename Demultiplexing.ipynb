{
 "cells": [
  {
   "cell_type": "markdown",
   "metadata": {},
   "source": [
    "# General Demultiplexing Pipeline\n",
    "\n",
    "#### In a Terminal window start by...\n",
    "\n",
    "- logging in to gardner (ssh -l t.sur.avangelatos gardner.cri.uchicago.edu)\n",
    "- loading relevant modules"
   ]
  },
  {
   "cell_type": "code",
   "execution_count": null,
   "metadata": {},
   "outputs": [],
   "source": [
    "module load gcc/6.2.0\n",
    "module load python/2.7.13"
   ]
  },
  {
   "cell_type": "markdown",
   "metadata": {},
   "source": [
    "- changing the working directory"
   ]
  },
  {
   "cell_type": "code",
   "execution_count": null,
   "metadata": {},
   "outputs": [],
   "source": [
    "cd /group/gilbert-lab/Lutz/Cadaver/Alex"
   ]
  },
  {
   "cell_type": "markdown",
   "metadata": {},
   "source": [
    "### 1) Validate Mapping File\n",
    "Checks that the metadata mapping file is in the correct format. If there are any errors a warning message will be displayed and the errors can be viewed in the .log file in the validate_mappingfile directory."
   ]
  },
  {
   "cell_type": "code",
   "execution_count": null,
   "metadata": {},
   "outputs": [],
   "source": [
    "validate_mapping_file.py -m raw_data/mapfile_metadata.txt -o raw_data/validate_mappingfile"
   ]
  },
  {
   "cell_type": "markdown",
   "metadata": {},
   "source": [
    "The output of this code will be stored as \"validate_mappingfile\" file in the raw_data file.\n",
    "\n",
    "\n",
    "### 2) Demultiplex\n",
    "\n",
    "> Joining Reads & Barcodes"
   ]
  },
  {
   "cell_type": "code",
   "execution_count": null,
   "metadata": {},
   "outputs": [],
   "source": [
    "mkdir raw_data/joined\n",
    "\n",
    "scripts/ea-utils/bin/fastq-join raw_data/Undetermined_S0_L001_R1_001.fastq raw_data/Undetermined_S0_L001_R2_001.fastq -o raw_data/joined/out.%.fastq #> raw_data/joined/out.stats.txt\n",
    "#Undetermined_S0_L001_R1_001.fastq is the forward seqs.... and Undetermined_S0_L001_R2_001.fastq are the reverse\n",
    "\n",
    "scripts/fastq-barcode.pl raw_data/Undetermined_S0_L001_I1_001.fastq raw_data/joined/out.join.fastq > raw_data/joined/out.barcodes.fastq\n",
    "#Undetermined_S0_L001_I1_001.fastq are the barcodes"
   ]
  },
  {
   "cell_type": "markdown",
   "metadata": {},
   "source": [
    "> Demultiplex Reads"
   ]
  },
  {
   "cell_type": "code",
   "execution_count": null,
   "metadata": {},
   "outputs": [],
   "source": [
    "mkdir raw_data/demux\n",
    "split_libraries_fastq.py -i raw_data/joined/out.join.fastq -b raw_data/joined/out.barcodes.fastq -m raw_data/mapfile_metadata.txt -o raw_data/demux/cadaver_demux_seqs --barcode_type=12 --max_barcode_errors=0 --store_demultiplexed_fastq"
   ]
  },
  {
   "cell_type": "markdown",
   "metadata": {},
   "source": [
    "### 3) Identify sub-OTUs\n",
    "Searching for Exact Sequence Variants (ESVs) using Deblur"
   ]
  },
  {
   "cell_type": "markdown",
   "metadata": {},
   "source": [
    "#### Input file: \n",
    "Demultiplexed FASTA file (e.g. filter_derep.fasta) but in this case (seqs.fna)\n",
    "\n",
    "#### Output files:\n",
    "- reference-hit.biom\n",
    "- reference-hit.seqs.fa\n",
    "- reference-non-hit.biom\n",
    "- reference-non-hit.seqs.fa\n",
    "- all.biom (contains both 1 and 3)\n",
    "- all.seqs.fa (contains both 2 and 4)\n",
    "\n",
    "Focus on reference hit outputs only.\n",
    "\n",
    "\n",
    "Open new terminal window and load the following modules to work with qiime 1..."
   ]
  },
  {
   "cell_type": "code",
   "execution_count": null,
   "metadata": {},
   "outputs": [],
   "source": [
    "module load gcc/6.2.0\n",
    "module load python/3.5.3\n",
    "module load qiime2"
   ]
  },
  {
   "cell_type": "code",
   "execution_count": null,
   "metadata": {},
   "outputs": [],
   "source": [
    "# Run Deblur\n",
    "deblur workflow --seqs-fp raw_data/demux/cadaver_demux_seqs/seqs.fna --output-dir deblur_results -t 150"
   ]
  },
  {
   "cell_type": "markdown",
   "metadata": {},
   "source": [
    "Return to terminal window with these modules loaded..."
   ]
  },
  {
   "cell_type": "code",
   "execution_count": null,
   "metadata": {},
   "outputs": [],
   "source": [
    "module load gcc/6.2.0\n",
    "module load python/2.7.13"
   ]
  },
  {
   "cell_type": "markdown",
   "metadata": {},
   "source": [
    "### 4) Align Sequences (GreenGenes reference)"
   ]
  },
  {
   "cell_type": "code",
   "execution_count": null,
   "metadata": {},
   "outputs": [],
   "source": [
    "align_seqs.py -i deblur_results/reference-hit.seqs.fa -t /group/gilbert-lab/Lutz/Cadaver/Alex/gg_13_8_otus/rep_set_aligned/85_otus.pynast.fasta -o aligned"
   ]
  },
  {
   "cell_type": "markdown",
   "metadata": {},
   "source": [
    "### 5) Make Phylogeny"
   ]
  },
  {
   "cell_type": "code",
   "execution_count": null,
   "metadata": {},
   "outputs": [],
   "source": [
    "mkdir final_biom_files\n",
    "\n",
    "make_phylogeny.py -i aligned/reference-hit.seqs_aligned.fasta -o final_biom_files/rep_phylo.tre"
   ]
  },
  {
   "cell_type": "markdown",
   "metadata": {},
   "source": [
    "### 6) Assign Taxonomy"
   ]
  },
  {
   "cell_type": "code",
   "execution_count": null,
   "metadata": {},
   "outputs": [],
   "source": [
    "assign_taxonomy.py -i deblur_results/reference-hit.seqs.fa -r gg_13_8_otus/rep_set/97_otus.fasta -t gg_13_8_otus/taxonomy/97_otu_taxonomy.txt -o deblur_results/taxon_assignment/"
   ]
  },
  {
   "cell_type": "markdown",
   "metadata": {},
   "source": [
    "### 7) Add Metadata"
   ]
  },
  {
   "cell_type": "code",
   "execution_count": null,
   "metadata": {},
   "outputs": [],
   "source": [
    "biom add-metadata --sc-separated taxonomy --observation-header OTUID,taxonomy --observation-metadata-fp deblur_results/taxon_assignment/reference-hit.seqs_tax_assignments.txt -i deblur_results/reference-hit.biom -o final_biom_files/cadaver_deblur.biom"
   ]
  }
 ],
 "metadata": {
  "kernelspec": {
   "display_name": "Python 3",
   "language": "python",
   "name": "python3"
  },
  "language_info": {
   "codemirror_mode": {
    "name": "ipython",
    "version": 3
   },
   "file_extension": ".py",
   "mimetype": "text/x-python",
   "name": "python",
   "nbconvert_exporter": "python",
   "pygments_lexer": "ipython3",
   "version": "3.6.5"
  }
 },
 "nbformat": 4,
 "nbformat_minor": 2
}
